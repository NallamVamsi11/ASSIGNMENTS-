{
 "cells": [
  {
   "cell_type": "markdown",
   "id": "1cdf9591",
   "metadata": {},
   "source": [
    "1.) Write a Python program to convert kilometers to miles?"
   ]
  },
  {
   "cell_type": "code",
   "execution_count": 2,
   "id": "61d0e7d6",
   "metadata": {},
   "outputs": [
    {
     "name": "stdout",
     "output_type": "stream",
     "text": [
      "enter the km value: 4\n",
      "the value of 4.0 km in miles is 6.436\n"
     ]
    }
   ],
   "source": [
    "# 1 mile = 1.6093 km\n",
    "km=float(input(\"enter the km value: \"))\n",
    "print(\"the value of {} km in miles is {}\".format(km,km*(1.609)))"
   ]
  },
  {
   "cell_type": "markdown",
   "id": "fe43ab8f",
   "metadata": {},
   "source": [
    "2.) Write a Python program to convert Celsius to Fahrenheit?"
   ]
  },
  {
   "cell_type": "code",
   "execution_count": 4,
   "id": "94ed7976",
   "metadata": {},
   "outputs": [
    {
     "name": "stdout",
     "output_type": "stream",
     "text": [
      "enter in temparature in celcius: 100\n",
      "Temp in Fahrenheit is  212.0\n"
     ]
    }
   ],
   "source": [
    "C=float(input(\"enter in temparature in celcius: \"))\n",
    "print(\"Temp in Fahrenheit is \",(C*(1.8) + 32))"
   ]
  },
  {
   "cell_type": "markdown",
   "id": "8175f687",
   "metadata": {},
   "source": [
    "3.) Write a Python program to display calendar?"
   ]
  },
  {
   "cell_type": "code",
   "execution_count": 19,
   "id": "b664a27a",
   "metadata": {},
   "outputs": [
    {
     "name": "stdout",
     "output_type": "stream",
     "text": [
      "enter month number M: 7\n",
      "enter day of month: 10\n",
      "enter the year YYYY: 2021\n",
      "The day is  SAT\n"
     ]
    }
   ],
   "source": [
    "#This code is used to find the DAY using DATE.\n",
    "m=int(input(\"enter month number M: \"))\n",
    "k=int(input(\"enter day of month: \"))\n",
    "Days=['SUN','MON','TUE','WED','THR','FRI','SAT']\n",
    "if m==1 or m==2:\n",
    "    m=m+10\n",
    "else:\n",
    "    m=m-2\n",
    "yr=input(\"enter the year YYYY: \")\n",
    "c=int(yr[0:2])\n",
    "d=int(yr[2:4])\n",
    "if m==11 or m==12:\n",
    "    d=d-1\n",
    "    F= k+int((13*m -1)/5)+d+int(d/4)+int(c/4)-2*c\n",
    "    res=F%7\n",
    "else:\n",
    "    F= k+int((13*m -1)/5)+d+int(d/4)+int(c/4)-2*c\n",
    "    res=F%7\n",
    "print(\"The day is \",Days[res])"
   ]
  },
  {
   "cell_type": "code",
   "execution_count": 25,
   "id": "c90d19be",
   "metadata": {},
   "outputs": [
    {
     "name": "stdout",
     "output_type": "stream",
     "text": [
      "enter month number M: 2\n",
      "enter the year YYYY: 2020\n",
      "it is a leap year \n",
      "Date 1 and Day SAT\n",
      "Date 2 and Day SUN\n",
      "Date 3 and Day MON\n",
      "Date 4 and Day TUE\n",
      "Date 5 and Day WED\n",
      "Date 6 and Day THR\n",
      "Date 7 and Day FRI\n",
      "Date 8 and Day SAT\n",
      "Date 9 and Day SUN\n",
      "Date 10 and Day MON\n",
      "Date 11 and Day TUE\n",
      "Date 12 and Day WED\n",
      "Date 13 and Day THR\n",
      "Date 14 and Day FRI\n",
      "Date 15 and Day SAT\n",
      "Date 16 and Day SUN\n",
      "Date 17 and Day MON\n",
      "Date 18 and Day TUE\n",
      "Date 19 and Day WED\n",
      "Date 20 and Day THR\n",
      "Date 21 and Day FRI\n",
      "Date 22 and Day SAT\n",
      "Date 23 and Day SUN\n",
      "Date 24 and Day MON\n",
      "Date 25 and Day TUE\n",
      "Date 26 and Day WED\n",
      "Date 27 and Day THR\n",
      "Date 28 and Day FRI\n",
      "Date 29 and Day SAT\n"
     ]
    }
   ],
   "source": [
    "#in the above code if we place k=1 we get the day of 1st date of a month.So from then we can get the month calender\n",
    "m=int(input(\"enter month number M: \"))\n",
    "k=1\n",
    "Days=['SUN','MON','TUE','WED','THR','FRI','SAT']\n",
    "if m==1 or m==2:\n",
    "    m=m+10\n",
    "else:\n",
    "    m=m-2\n",
    "yr=input(\"enter the year YYYY: \")\n",
    "c=int(yr[0:2])\n",
    "d=int(yr[2:4])\n",
    "if m==11 or m==12:\n",
    "    d=d-1\n",
    "    F= k+int((13*m -1)/5)+d+int(d/4)+int(c/4)-2*c\n",
    "    res=F%7\n",
    "else:\n",
    "    F= k+int((13*m -1)/5)+d+int(d/4)+int(c/4)-2*c\n",
    "    res=F%7\n",
    "if m==11 or m==1 or m==3 or m==5 or m==6 or m==8 or m==10:\n",
    "    print(\"month has 31 days\")\n",
    "    for i in range(1,32):\n",
    "        print(\"Date {} and Day {}\".format(i,Days[res]))\n",
    "        res=res+1\n",
    "        if res>6:\n",
    "            res=0\n",
    "elif m==2 or m==4 or m==7 or m==9:\n",
    "    print(\"month has 30 days\")\n",
    "    for i in range(1,31):\n",
    "        print(\"Date {} and Day {}\".format(i,Days[res]))\n",
    "        res=res+1\n",
    "        if res>6:\n",
    "            res=0\n",
    "else:\n",
    "    if int(yr)%4 == 0:\n",
    "        print(\"it is a leap year \")\n",
    "        for i in range(1,30):\n",
    "            print(\"Date {} and Day {}\".format(i,Days[res]))\n",
    "            res=res+1\n",
    "            if res>6:\n",
    "                res=0\n",
    "    else:\n",
    "        print(\"it is not a leap year \")\n",
    "        for i in range(1,29):\n",
    "            print(\"Date {} and Day {}\".format(i,Days[res]))\n",
    "            res=res+1\n",
    "            if res>6:\n",
    "                res=0\n",
    "        "
   ]
  },
  {
   "cell_type": "markdown",
   "id": "5ca69ca6",
   "metadata": {},
   "source": [
    "4.) Write a Python program to solve quadratic equation?"
   ]
  },
  {
   "cell_type": "code",
   "execution_count": 31,
   "id": "328cb6d8",
   "metadata": {},
   "outputs": [
    {
     "name": "stdout",
     "output_type": "stream",
     "text": [
      "enter the value of 'a': 1\n",
      "enter the value of 'b': 5\n",
      "enter the value of 'c': 7\n",
      "-3.0\n",
      "the roots are -2.5+0.8660254037844386j and -2.5-0.8660254037844386j\n"
     ]
    }
   ],
   "source": [
    "import math\n",
    "a=float(input(\"enter the value of 'a': \"))\n",
    "b=float(input(\"enter the value of 'b': \"))\n",
    "c=float(input(\"enter the value of 'c': \"))\n",
    "dis= b*b - 4*a*c\n",
    "print(dis)\n",
    "if dis<0:\n",
    "    dis=-dis\n",
    "    d1=(math.sqrt(dis))/(2*a)\n",
    "    d2=(-b)/(2*a)\n",
    "    print(\"the roots are {}+{}j and {}-{}j\".format(d2,d1,d2,d1))\n",
    "else:\n",
    "    r1=(-b+math.sqrt(dis))/(2*a)\n",
    "    r2=(-b-math.sqrt(dis))/(2*a)\n",
    "    print(\"the roots are {} and {}\".format(r1,r2))"
   ]
  },
  {
   "cell_type": "markdown",
   "id": "628160aa",
   "metadata": {},
   "source": [
    "5.) Write a Python program to swap two variables without temp variable?"
   ]
  },
  {
   "cell_type": "code",
   "execution_count": 36,
   "id": "5a48163a",
   "metadata": {},
   "outputs": [
    {
     "name": "stdout",
     "output_type": "stream",
     "text": [
      "input 1st number: -5\n",
      "input 2nd number: 6\n",
      "entered a=-5.0 and b=6.0\n",
      "after swaping a = 6.0 and b = -5.0\n"
     ]
    }
   ],
   "source": [
    "a=float(input(\"input 1st number: \"))\n",
    "b=float(input(\"input 2nd number: \"))\n",
    "print(\"entered a={} and b={}\".format(a,b))\n",
    "s1=a+b\n",
    "s2=a-b\n",
    "b=(s1+s2)/2\n",
    "a=(s1-s2)/2\n",
    "print(\"after swaping a = {} and b = {}\".format(a,b))"
   ]
  },
  {
   "cell_type": "code",
   "execution_count": null,
   "id": "3490f327",
   "metadata": {},
   "outputs": [],
   "source": []
  }
 ],
 "metadata": {
  "kernelspec": {
   "display_name": "Python 3",
   "language": "python",
   "name": "python3"
  },
  "language_info": {
   "codemirror_mode": {
    "name": "ipython",
    "version": 3
   },
   "file_extension": ".py",
   "mimetype": "text/x-python",
   "name": "python",
   "nbconvert_exporter": "python",
   "pygments_lexer": "ipython3",
   "version": "3.8.8"
  }
 },
 "nbformat": 4,
 "nbformat_minor": 5
}
