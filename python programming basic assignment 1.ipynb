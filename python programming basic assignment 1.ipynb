{
 "cells": [
  {
   "cell_type": "markdown",
   "id": "5e3cd42a",
   "metadata": {},
   "source": [
    "1.) Write a Python program to print \"Hello Python\"?"
   ]
  },
  {
   "cell_type": "code",
   "execution_count": 1,
   "id": "2e1c2d0c",
   "metadata": {},
   "outputs": [
    {
     "name": "stdout",
     "output_type": "stream",
     "text": [
      "hello python\n"
     ]
    }
   ],
   "source": [
    "print(\"hello python\")"
   ]
  },
  {
   "cell_type": "markdown",
   "id": "184edb33",
   "metadata": {},
   "source": [
    "2.) Write a Python program to do arithmetical operations addition and division.?"
   ]
  },
  {
   "cell_type": "code",
   "execution_count": 6,
   "id": "239ebc08",
   "metadata": {},
   "outputs": [
    {
     "name": "stdout",
     "output_type": "stream",
     "text": [
      "enter a number: 15\n",
      "enter a number: 6\n",
      "the addition of 2 numbers is  21.0\n",
      "the division of 2 numbers is  2.5\n"
     ]
    }
   ],
   "source": [
    "in1=float(input(\"enter a number: \"))\n",
    "in2=float(input(\"enter a number: \"))\n",
    "print(\"the addition of 2 numbers is \",in1+in2)\n",
    "print(\"the division of 2 numbers is \",(in1/in2))"
   ]
  },
  {
   "cell_type": "markdown",
   "id": "919fca8f",
   "metadata": {},
   "source": [
    "3.) Write a Python program to find the area of a triangle?"
   ]
  },
  {
   "cell_type": "code",
   "execution_count": 8,
   "id": "786b46de",
   "metadata": {},
   "outputs": [
    {
     "name": "stdout",
     "output_type": "stream",
     "text": [
      "enter height in cm 5\n",
      "enter base in cm 6.3\n",
      "area of triangle is  15.75\n"
     ]
    }
   ],
   "source": [
    "hgt=float(input(\"enter height in cm \"))\n",
    "base=float(input(\"enter base in cm \"))\n",
    "print(\"area of triangle is \",(0.5*hgt*base))"
   ]
  },
  {
   "cell_type": "markdown",
   "id": "d7bd7caa",
   "metadata": {},
   "source": [
    "4.) Write a Python program to swap two variables?"
   ]
  },
  {
   "cell_type": "code",
   "execution_count": 12,
   "id": "b070fa5f",
   "metadata": {},
   "outputs": [
    {
     "name": "stdout",
     "output_type": "stream",
     "text": [
      "enter a data: vamsi\n",
      "enter a data: 11\n",
      "u entered 1st data vamsi and 2nd data 11 \n",
      "after swaping var1 is 11 and var2 is vamsi\n"
     ]
    }
   ],
   "source": [
    "var1=input(\"enter a data: \")\n",
    "var2=input(\"enter a data: \")\n",
    "print(\"u entered 1st data {} and 2nd data {} \".format(var1,var2))\n",
    "temp=var1\n",
    "var1=var2\n",
    "var2=temp\n",
    "print(\"after swaping var1 is {} and var2 is {}\".format(var1,var2))"
   ]
  },
  {
   "cell_type": "markdown",
   "id": "3885c2dc",
   "metadata": {},
   "source": [
    "5.) Write a Python program to generate a random number?"
   ]
  },
  {
   "cell_type": "code",
   "execution_count": null,
   "id": "db5fe563",
   "metadata": {},
   "outputs": [],
   "source": [
    "import random \n",
    "n=random.random()\n",
    "while True:\n",
    "    n=n*10\n",
    "    while True:\n",
    "        if int(n)==0:\n",
    "            n=n*10\n",
    "    if (n-int(n))>0:\n",
    "        continue\n",
    "    else:\n",
    "        break\n",
    "print(n) "
   ]
  },
  {
   "cell_type": "code",
   "execution_count": null,
   "id": "96b2c947",
   "metadata": {},
   "outputs": [],
   "source": []
  }
 ],
 "metadata": {
  "kernelspec": {
   "display_name": "Python 3",
   "language": "python",
   "name": "python3"
  },
  "language_info": {
   "codemirror_mode": {
    "name": "ipython",
    "version": 3
   },
   "file_extension": ".py",
   "mimetype": "text/x-python",
   "name": "python",
   "nbconvert_exporter": "python",
   "pygments_lexer": "ipython3",
   "version": "3.8.8"
  }
 },
 "nbformat": 4,
 "nbformat_minor": 5
}
