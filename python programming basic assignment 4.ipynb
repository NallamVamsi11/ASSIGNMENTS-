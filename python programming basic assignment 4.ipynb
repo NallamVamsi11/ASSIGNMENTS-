{
 "cells": [
  {
   "cell_type": "markdown",
   "id": "627a3c56",
   "metadata": {},
   "source": [
    "1.) Write a Python Program to Find the Factorial of a Number?"
   ]
  },
  {
   "cell_type": "code",
   "execution_count": 1,
   "id": "81f27f91",
   "metadata": {},
   "outputs": [
    {
     "name": "stdout",
     "output_type": "stream",
     "text": [
      "enter which number factorial  u need: 6\n",
      "The factorial is 720\n"
     ]
    }
   ],
   "source": [
    "n=int(input(\"enter which number factorial  u need: \"))\n",
    "for i in range(1,n):\n",
    "    n=n*i\n",
    "print(\"The factorial is {}\".format(n))"
   ]
  },
  {
   "cell_type": "markdown",
   "id": "cb4f6ec9",
   "metadata": {},
   "source": [
    "2.) Write a Python Program to Display the multiplication Table?"
   ]
  },
  {
   "cell_type": "code",
   "execution_count": 2,
   "id": "a5020df4",
   "metadata": {},
   "outputs": [
    {
     "name": "stdout",
     "output_type": "stream",
     "text": [
      "which table u need: 7\n",
      "how many steps u need: 15\n",
      "7*1=7\n",
      "7*2=14\n",
      "7*3=21\n",
      "7*4=28\n",
      "7*5=35\n",
      "7*6=42\n",
      "7*7=49\n",
      "7*8=56\n",
      "7*9=63\n",
      "7*10=70\n",
      "7*11=77\n",
      "7*12=84\n",
      "7*13=91\n",
      "7*14=98\n",
      "7*15=105\n"
     ]
    }
   ],
   "source": [
    "n=int(input(\"which table u need: \"))\n",
    "steps=int(input(\"how many steps u need: \"))\n",
    "for i in range(1,steps+1):\n",
    "    print(\"{}*{}={}\".format(n,i,n*i))"
   ]
  },
  {
   "cell_type": "markdown",
   "id": "17a30865",
   "metadata": {},
   "source": [
    "3.) Write a Python Program to Print the Fibonacci sequence?"
   ]
  },
  {
   "cell_type": "code",
   "execution_count": 41,
   "id": "b6788f5c",
   "metadata": {},
   "outputs": [
    {
     "name": "stdout",
     "output_type": "stream",
     "text": [
      "How many terms u want: 10\n",
      "0 1 1 2 3 5 8 13 21 34 "
     ]
    }
   ],
   "source": [
    "n=int(input(\"How many terms u want: \"))\n",
    "n0=0\n",
    "n1=1\n",
    "nth=0\n",
    "print(\"0 1\",end=\" \")\n",
    "for i in range(n-2):\n",
    "    nth=n1+n0\n",
    "    n0=n1\n",
    "    n1=nth\n",
    "    print(nth,end=\" \")"
   ]
  },
  {
   "cell_type": "code",
   "execution_count": 44,
   "id": "fac30acb",
   "metadata": {},
   "outputs": [
    {
     "name": "stdout",
     "output_type": "stream",
     "text": [
      "How many terms u want: 15\n",
      "0 1 1 2 3 5 8 13 21 34 55 89 144 233 377 "
     ]
    }
   ],
   "source": [
    "n=int(input(\"How many terms u want: \"))\n",
    "fb=0\n",
    "n0=0\n",
    "n1=1\n",
    "if n==0:\n",
    "    print(\"please enter a natural number.\")\n",
    "elif n==1:\n",
    "    print(\"0\")\n",
    "elif n==2:\n",
    "    print(n0,n1)\n",
    "elif n==3:\n",
    "    print(n0,n1,n0+n1)\n",
    "else:\n",
    "    print('{} {} {}'.format(0,1,1),end=\" \")\n",
    "    while fb<(n-3):\n",
    "        nl=n0+n1\n",
    "        nu=n1\n",
    "        n1=nl\n",
    "        n0=nu\n",
    "        print(nu+nl,end=\" \")\n",
    "        fb=fb+1"
   ]
  },
  {
   "cell_type": "markdown",
   "id": "58795b31",
   "metadata": {},
   "source": [
    "4.) Write a Python Program to Check Armstrong Number?"
   ]
  },
  {
   "cell_type": "code",
   "execution_count": 12,
   "id": "0bc81701",
   "metadata": {},
   "outputs": [
    {
     "name": "stdout",
     "output_type": "stream",
     "text": [
      "enter a number: 1634\n",
      "it is a armstrong number\n"
     ]
    }
   ],
   "source": [
    "s=input(\"enter a number: \")\n",
    "l=list(s)\n",
    "inp=int(s)\n",
    "count=0\n",
    "for i in range(len(l)):\n",
    "    k=int(l[i])\n",
    "    for j in range(len(l)-1):\n",
    "        l[i]=int(l[i])*k\n",
    "    count=count+int(l[i])\n",
    "if count==inp:\n",
    "    print(\"it is a armstrong number\")\n",
    "else:\n",
    "    print(\"it is not a armstrong number\")"
   ]
  },
  {
   "cell_type": "code",
   "execution_count": 14,
   "id": "b2de3e7a",
   "metadata": {},
   "outputs": [
    {
     "name": "stdout",
     "output_type": "stream",
     "text": [
      "enter a number: 153\n",
      "it is a armstrong number\n"
     ]
    }
   ],
   "source": [
    "s=input(\"enter a number: \")\n",
    "l=list(s)\n",
    "inp=int(s)\n",
    "count=0\n",
    "for i in range(len(l)):\n",
    "    l[i]=pow(int(l[i]),len(l))\n",
    "    count=count+int(l[i])\n",
    "if count==inp:\n",
    "    print(\"it is a armstrong number\")\n",
    "else:\n",
    "    print(\"it is not a armstrong number\")"
   ]
  },
  {
   "cell_type": "markdown",
   "id": "510a6262",
   "metadata": {},
   "source": [
    "5.) Write a Python Program to Find Armstrong Number in an Interval?"
   ]
  },
  {
   "cell_type": "code",
   "execution_count": 30,
   "id": "90414b20",
   "metadata": {},
   "outputs": [
    {
     "name": "stdout",
     "output_type": "stream",
     "text": [
      "enter lower limit of interval: 10\n",
      "enter upper limit of interval: 2000\n",
      "153\n",
      "370\n",
      "371\n",
      "407\n",
      "1634\n"
     ]
    }
   ],
   "source": [
    "ll=int(input(\"enter lower limit of interval: \"))\n",
    "ul=int(input(\"enter upper limit of interval: \"))\n",
    "for j in range(ll,ul):\n",
    "    l=list(str(j))\n",
    "    count=0\n",
    "    for k in range(len(l)):\n",
    "        l[k]=pow(int(l[k]),len(l))\n",
    "        count=count+int(l[k])\n",
    "    if count==j:\n",
    "        print(j)"
   ]
  },
  {
   "cell_type": "markdown",
   "id": "dae5d174",
   "metadata": {},
   "source": [
    "6.) Write a Python Program to Find the Sum of Natural Numbers?"
   ]
  },
  {
   "cell_type": "code",
   "execution_count": 31,
   "id": "3c76abfd",
   "metadata": {},
   "outputs": [
    {
     "name": "stdout",
     "output_type": "stream",
     "text": [
      "enter a number: 10\n",
      "sum of natural numbers upto 10 =  55.0\n"
     ]
    }
   ],
   "source": [
    "n=int(input(\"enter a number: \"))\n",
    "s=(n*(n+1))/2\n",
    "print(\"sum of natural numbers upto {} =  {}\".format(n,s))"
   ]
  }
 ],
 "metadata": {
  "kernelspec": {
   "display_name": "Python 3",
   "language": "python",
   "name": "python3"
  },
  "language_info": {
   "codemirror_mode": {
    "name": "ipython",
    "version": 3
   },
   "file_extension": ".py",
   "mimetype": "text/x-python",
   "name": "python",
   "nbconvert_exporter": "python",
   "pygments_lexer": "ipython3",
   "version": "3.8.8"
  }
 },
 "nbformat": 4,
 "nbformat_minor": 5
}
