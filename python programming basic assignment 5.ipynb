{
 "cells": [
  {
   "cell_type": "markdown",
   "id": "2c4aa5ff",
   "metadata": {},
   "source": [
    "1.) Write a Python Program to Find LCM?"
   ]
  },
  {
   "cell_type": "code",
   "execution_count": 5,
   "id": "941a155b",
   "metadata": {},
   "outputs": [
    {
     "name": "stdout",
     "output_type": "stream",
     "text": [
      "enter 1st number: 12\n",
      "enter 2nd number: 18\n",
      "36\n"
     ]
    }
   ],
   "source": [
    "n1=int(input(\"enter 1st number: \"))\n",
    "n2=int(input(\"enter 2nd number: \"))\n",
    "j=1\n",
    "while j:\n",
    "    if j%n1==0 and j%n2==0 :\n",
    "        print(j)\n",
    "        break\n",
    "    j=j+1"
   ]
  },
  {
   "cell_type": "markdown",
   "id": "6c5b9eff",
   "metadata": {},
   "source": [
    "2.) Write a Python Program to Find HCF?"
   ]
  },
  {
   "cell_type": "code",
   "execution_count": 9,
   "id": "8fbb6331",
   "metadata": {},
   "outputs": [
    {
     "name": "stdout",
     "output_type": "stream",
     "text": [
      "enter 1st number: 34\n",
      "enter 2nd number: 85\n",
      "hcf is:  17\n"
     ]
    }
   ],
   "source": [
    "num1=int(input(\"enter 1st number: \"))\n",
    "num2=int(input(\"enter 2nd number: \"))\n",
    "l=[]\n",
    "for i in range(1,min(num1,num2)+1):\n",
    "    if num1%i==0 and num2%i==0:\n",
    "        l=l+[i]\n",
    "print(\"hcf is: \",max(l))"
   ]
  },
  {
   "cell_type": "markdown",
   "id": "fda76a69",
   "metadata": {},
   "source": [
    "3.) Write a Python Program to Convert Decimal to Binary, Octal and Hexadecimal?"
   ]
  },
  {
   "cell_type": "code",
   "execution_count": 38,
   "id": "5613e86c",
   "metadata": {},
   "outputs": [
    {
     "name": "stdout",
     "output_type": "stream",
     "text": [
      "enter a integer: 254\n",
      "in binary:  00000000000011111110\n",
      "in octal:  00000000000000000376 \n",
      "in hexa decimal:  000000000000000000FE\n"
     ]
    }
   ],
   "source": [
    "n=int(input(\"enter a integer: \"))\n",
    "s=''\n",
    "p=''\n",
    "j=0\n",
    "x=n\n",
    "y=n\n",
    "while j<20:\n",
    "    r=n%2\n",
    "    q=int(n/2)\n",
    "    n=q\n",
    "    s=s+str(r)\n",
    "    j=j+1\n",
    "    if q==1 and r==0:\n",
    "        s=s+str(1)\n",
    "        break\n",
    "print(\"in binary: \",s[::-1])\n",
    "k=0\n",
    "p11=' '\n",
    "while k<20:\n",
    "    r1=x%8\n",
    "    q1=int(x/8)\n",
    "    x=q1\n",
    "    p11=p11+str(r1)\n",
    "    k=k+1\n",
    "    if q1==1:\n",
    "        p11=p11+str(1)\n",
    "        break\n",
    "print(\"in octal: \",p11[::-1])\n",
    "l=0\n",
    "q11=''\n",
    "while l<20:\n",
    "    r2=y%16\n",
    "    if r2>9:\n",
    "        r2=chr((r2-9)+64)\n",
    "    q2=int(y/16)\n",
    "    y=q2\n",
    "    q11=q11+str(r2)\n",
    "    l=l+1\n",
    "    if q2==1:\n",
    "        q11=q11+str(1)\n",
    "        break\n",
    "print(\"in hexa decimal: \",q11[::-1])"
   ]
  },
  {
   "cell_type": "markdown",
   "id": "12509cfd",
   "metadata": {},
   "source": [
    "4.) Write a Python Program To Find ASCII value of a character?"
   ]
  },
  {
   "cell_type": "code",
   "execution_count": 39,
   "id": "d258378b",
   "metadata": {},
   "outputs": [
    {
     "name": "stdout",
     "output_type": "stream",
     "text": [
      "enter a character: A\n",
      "its ascii value is:  65\n"
     ]
    }
   ],
   "source": [
    "inp=input(\"enter a character: \")\n",
    "print(\"its ascii value is: \",ord(inp))"
   ]
  },
  {
   "cell_type": "markdown",
   "id": "18356244",
   "metadata": {},
   "source": [
    "5.) Write a Python Program to Make a Simple Calculator with 4 basic mathematical operations?"
   ]
  },
  {
   "cell_type": "code",
   "execution_count": 40,
   "id": "d2b22447",
   "metadata": {},
   "outputs": [
    {
     "name": "stdout",
     "output_type": "stream",
     "text": [
      "enter 1st number: 4.4\n",
      "enter 2nd number: 5.4\n",
      "for 2 numbers enter for , add=1,sub=2,mul=3,div=4: 3\n",
      "product is:  23.760000000000005\n"
     ]
    }
   ],
   "source": [
    "n1=float(input(\"enter 1st number: \"))\n",
    "n2=float(input(\"enter 2nd number: \"))\n",
    "n=int(input(\"for 2 numbers enter for , add=1,sub=2,mul=3,div=4: \"))\n",
    "if n==1:\n",
    "    print(\"sum is: \",n1+n2)\n",
    "elif n==2:\n",
    "    print(\"difference is: \",n1-n2)\n",
    "elif n==3:\n",
    "    print(\"product is: \",n1*n2)\n",
    "elif n==4:\n",
    "    print(\"division is: \",(n1/n2))\n",
    "else:\n",
    "    print(\"please enter valid option\")"
   ]
  }
 ],
 "metadata": {
  "kernelspec": {
   "display_name": "Python 3",
   "language": "python",
   "name": "python3"
  },
  "language_info": {
   "codemirror_mode": {
    "name": "ipython",
    "version": 3
   },
   "file_extension": ".py",
   "mimetype": "text/x-python",
   "name": "python",
   "nbconvert_exporter": "python",
   "pygments_lexer": "ipython3",
   "version": "3.8.8"
  }
 },
 "nbformat": 4,
 "nbformat_minor": 5
}
