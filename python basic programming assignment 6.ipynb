{
 "cells": [
  {
   "cell_type": "markdown",
   "id": "57a5a325",
   "metadata": {},
   "source": [
    "1.) Write a Python Program to Display Fibonacci Sequence Using Recursion?"
   ]
  },
  {
   "cell_type": "code",
   "execution_count": 75,
   "id": "08ce8597",
   "metadata": {},
   "outputs": [
    {
     "name": "stdout",
     "output_type": "stream",
     "text": [
      "how many terms u need: 10\n",
      "0 1 1 2 3 5 8 13 21 34 "
     ]
    }
   ],
   "source": [
    "def Fibonacci(n):\n",
    "    if n < 0:\n",
    "        print(\"Incorrect input\")\n",
    "    elif n == 0:\n",
    "        return 0\n",
    "    elif n == 1 or n == 2:\n",
    "        return 1\n",
    "    else:\n",
    "        return Fibonacci(n-1) + Fibonacci(n-2)\n",
    "n=int(input(\"how many terms u need: \"))\n",
    "for i in range(n):\n",
    "    print(Fibonacci(i),end=\" \")"
   ]
  },
  {
   "cell_type": "markdown",
   "id": "0374049d",
   "metadata": {},
   "source": [
    "2.) Write a Python Program to Find Factorial of Number Using Recursion?"
   ]
  },
  {
   "cell_type": "code",
   "execution_count": 19,
   "id": "f66c7477",
   "metadata": {},
   "outputs": [
    {
     "name": "stdout",
     "output_type": "stream",
     "text": [
      "enter a number: 5\n",
      "120\n"
     ]
    }
   ],
   "source": [
    "n=int(input(\"enter a number: \"))\n",
    "def fact(n):\n",
    "    if n==0:\n",
    "        return 1\n",
    "    else:\n",
    "        return n*fact(n-1)\n",
    "a=fact(n)\n",
    "print(a)"
   ]
  },
  {
   "cell_type": "markdown",
   "id": "36224718",
   "metadata": {},
   "source": [
    "3.) Write a Python Program to calculate your Body Mass Index?"
   ]
  },
  {
   "cell_type": "code",
   "execution_count": 23,
   "id": "1e3425ca",
   "metadata": {},
   "outputs": [
    {
     "name": "stdout",
     "output_type": "stream",
     "text": [
      "enter ur mass in kg: 50\n",
      "enter ur height in meters: 1.6\n",
      "ur bmi is:  19.531249999999996\n"
     ]
    }
   ],
   "source": [
    "m=float(input(\"enter ur mass in kg: \"))\n",
    "h=float(input(\"enter ur height in meters: \"))\n",
    "print(\"ur bmi is: \",m/(h*h))"
   ]
  },
  {
   "cell_type": "markdown",
   "id": "755de9aa",
   "metadata": {},
   "source": [
    "4.) Write a Python Program to calculate the natural logarithm of any number?"
   ]
  },
  {
   "cell_type": "code",
   "execution_count": 67,
   "id": "72b38f9f",
   "metadata": {},
   "outputs": [
    {
     "name": "stdout",
     "output_type": "stream",
     "text": [
      "enter a number: 10\n",
      "2.3025488407309935\n"
     ]
    }
   ],
   "source": [
    "x=float(input(\"enter a number: \"))\n",
    "y=(x-1)/(x+1)\n",
    "p=0\n",
    "for i in range(1,4*int(x),2):\n",
    "    p=p+(1/i)*(y**i)\n",
    "print(2*p)"
   ]
  },
  {
   "cell_type": "code",
   "execution_count": 68,
   "id": "a3954eb5",
   "metadata": {},
   "outputs": [
    {
     "name": "stdout",
     "output_type": "stream",
     "text": [
      "enter a no. 10\n",
      "its ln is:  2.302585092994046\n"
     ]
    }
   ],
   "source": [
    "import math\n",
    "n=float(input(\"enter a no. \"))\n",
    "print(\"its ln is: \",math.log(n))"
   ]
  },
  {
   "cell_type": "markdown",
   "id": "f100f46a",
   "metadata": {},
   "source": [
    "5.) Write a Python Program for cube sum of first n natural numbers?"
   ]
  },
  {
   "cell_type": "code",
   "execution_count": 69,
   "id": "6114f49d",
   "metadata": {},
   "outputs": [
    {
     "name": "stdout",
     "output_type": "stream",
     "text": [
      "enter a natural number: 5\n",
      "225\n"
     ]
    }
   ],
   "source": [
    "n=int(input(\"enter a natural number: \"))\n",
    "sum=0\n",
    "for i in range(n+1):\n",
    "    sum=sum+i**3\n",
    "print(sum)"
   ]
  },
  {
   "cell_type": "code",
   "execution_count": null,
   "id": "872fad02",
   "metadata": {},
   "outputs": [],
   "source": []
  }
 ],
 "metadata": {
  "kernelspec": {
   "display_name": "Python 3",
   "language": "python",
   "name": "python3"
  },
  "language_info": {
   "codemirror_mode": {
    "name": "ipython",
    "version": 3
   },
   "file_extension": ".py",
   "mimetype": "text/x-python",
   "name": "python",
   "nbconvert_exporter": "python",
   "pygments_lexer": "ipython3",
   "version": "3.8.8"
  }
 },
 "nbformat": 4,
 "nbformat_minor": 5
}
